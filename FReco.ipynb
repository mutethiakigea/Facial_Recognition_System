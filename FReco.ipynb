{
 "cells": [
  {
   "cell_type": "code",
   "execution_count": 17,
   "metadata": {},
   "outputs": [],
   "source": [
    "import cv2\n",
    "import numpy as np\n",
    "import face_recognition as fr"
   ]
  },
  {
   "cell_type": "code",
   "execution_count": 18,
   "metadata": {},
   "outputs": [],
   "source": [
    "image = fr.load_image_file('kigea.jpg')\n",
    "face_encodings = fr.face_encodings(image)\n"
   ]
  },
  {
   "cell_type": "code",
   "execution_count": 22,
   "metadata": {},
   "outputs": [],
   "source": [
    "video_capture = cv2.VideoCapture(0)  # Use 0 for the default camera, you can change it to the camera index if you have multiple cameras\n",
    "\n",
    "while True:\n",
    "    # Capture frame-by-frame\n",
    "    ret, frame = video_capture.read()\n",
    "\n",
    "    # Find all face locations in the current frame\n",
    "    face_locations = fr.face_locations(frame)\n",
    "    \n",
    "    # Encode the faces in the current frame\n",
    "    current_frame_encodings = fr.face_encodings(frame, face_locations)\n",
    "\n",
    "    # Loop through each face in the current frame\n",
    "    for (top, right, bottom, left), face_encoding in zip(face_locations, current_frame_encodings):\n",
    "        # Check if the face matches with the loaded image\n",
    "        matches = fr.compare_faces(face_encodings, face_encoding)\n",
    "\n",
    "        name = \"Unknown\"\n",
    "\n",
    "        # If a match is found, use the name of the matched face\n",
    "        if True in matches:\n",
    "            first_match_index = matches.index(True)\n",
    "            name = \"Kigea\" + str(first_match_index + 1)\n",
    "\n",
    "        # Draw a rectangle around the face and display the name\n",
    "        cv2.rectangle(frame, (left, top), (right, bottom), (0, 255, 0), 2)\n",
    "        font = cv2.FONT_HERSHEY_DUPLEX\n",
    "        cv2.putText(frame, name, (left + 6, bottom - 6), font, 0.5, (255, 255, 255), 1)\n",
    "\n",
    "    # Display the resulting frame\n",
    "    cv2.imshow('Video', frame)\n",
    "\n",
    "    # Break the loop when 'q' is pressed\n",
    "    if cv2.waitKey(1) & 0xFF == ord('q'):\n",
    "        break\n",
    "\n",
    "# Release the video feed\n",
    "video_capture.release()\n",
    "cv2.destroyAllWindows()\n"
   ]
  }
 ],
 "metadata": {
  "kernelspec": {
   "display_name": "Python 3",
   "language": "python",
   "name": "python3"
  },
  "language_info": {
   "codemirror_mode": {
    "name": "ipython",
    "version": 3
   },
   "file_extension": ".py",
   "mimetype": "text/x-python",
   "name": "python",
   "nbconvert_exporter": "python",
   "pygments_lexer": "ipython3",
   "version": "3.11.4"
  }
 },
 "nbformat": 4,
 "nbformat_minor": 2
}
